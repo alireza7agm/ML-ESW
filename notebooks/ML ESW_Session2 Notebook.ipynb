{
 "cells": [
  {
   "cell_type": "markdown",
   "id": "84e237f7",
   "metadata": {},
   "source": [
    "# Logistic Regression and Regularization"
   ]
  },
  {
   "cell_type": "code",
   "execution_count": 1,
   "id": "6ebc7043",
   "metadata": {},
   "outputs": [],
   "source": [
    "import numpy as np\n",
    "import pandas as pd\n",
    "import matplotlib.pyplot as plt\n",
    "\n",
    "from sklearn.datasets import fetch_openml\n",
    "from sklearn.model_selection import train_test_split\n",
    "from sklearn.preprocessing import StandardScaler\n",
    "from sklearn.linear_model import LogisticRegression"
   ]
  },
  {
   "cell_type": "markdown",
   "id": "dde9b90d",
   "metadata": {},
   "source": [
    "# Data Preparation"
   ]
  },
  {
   "cell_type": "code",
   "execution_count": 2,
   "id": "c4b834c7",
   "metadata": {},
   "outputs": [],
   "source": [
    "X, y = fetch_openml(\"mnist_784\", version=1, return_X_y=True, as_frame=False)"
   ]
  },
  {
   "cell_type": "code",
   "execution_count": 28,
   "id": "4112b8eb",
   "metadata": {},
   "outputs": [
    {
     "data": {
      "text/plain": [
       "(70000, 784)"
      ]
     },
     "execution_count": 28,
     "metadata": {},
     "output_type": "execute_result"
    }
   ],
   "source": [
    "X.shape"
   ]
  },
  {
   "cell_type": "code",
   "execution_count": 26,
   "id": "98709342",
   "metadata": {},
   "outputs": [
    {
     "data": {
      "text/plain": [
       "array(['5', '0', '4', ..., '4', '5', '6'], dtype=object)"
      ]
     },
     "execution_count": 26,
     "metadata": {},
     "output_type": "execute_result"
    }
   ],
   "source": [
    "y"
   ]
  },
  {
   "cell_type": "code",
   "execution_count": 52,
   "id": "9714e8ee",
   "metadata": {},
   "outputs": [
    {
     "data": {
      "image/png": "[encoded data removed]",
      "text/plain": [
       "<Figure size 432x288 with 1 Axes>"
      ]
     },
     "metadata": {
      "needs_background": "light"
     },
     "output_type": "display_data"
    }
   ],
   "source": [
    "plt.imshow(X[-1].reshape(28,28), cmap='gray');"
   ]
  },
  {
   "cell_type": "code",
   "execution_count": 11,
   "id": "01ca1ebb",
   "metadata": {},
   "outputs": [],
   "source": [
    "X_train, X_test, y_train, y_test = train_test_split(\n",
    "    X, y, train_size=50000, test_size=20000, random_state= 0\n",
    ")"
   ]
  },
  {
   "cell_type": "markdown",
   "id": "218f23b8",
   "metadata": {},
   "source": [
    "##### Checking the balanceness of the training data"
   ]
  },
  {
   "cell_type": "code",
   "execution_count": 44,
   "id": "0a203a03",
   "metadata": {},
   "outputs": [
    {
     "data": {
      "text/plain": [
       "4891"
      ]
     },
     "execution_count": 44,
     "metadata": {},
     "output_type": "execute_result"
    }
   ],
   "source": [
    "sum(y_train == '0')"
   ]
  },
  {
   "cell_type": "markdown",
   "id": "056d91af",
   "metadata": {},
   "source": [
    "### Preprocessing"
   ]
  },
  {
   "cell_type": "code",
   "execution_count": 45,
   "id": "c616ca90",
   "metadata": {},
   "outputs": [
    {
     "data": {
      "text/plain": [
       "(50000, 784)"
      ]
     },
     "execution_count": 45,
     "metadata": {},
     "output_type": "execute_result"
    }
   ],
   "source": [
    "X_train.shape"
   ]
  },
  {
   "cell_type": "code",
   "execution_count": 13,
   "id": "def6448f",
   "metadata": {},
   "outputs": [],
   "source": [
    "scaler = StandardScaler()\n",
    "X_train = scaler.fit_transform(X_train)\n",
    "X_test = scaler.transform(X_test)"
   ]
  },
  {
   "cell_type": "code",
   "execution_count": 46,
   "id": "848d62a4",
   "metadata": {},
   "outputs": [
    {
     "data": {
      "text/plain": [
       "array([ 0.00000000e+00,  0.00000000e+00,  0.00000000e+00,  0.00000000e+00,\n",
       "        0.00000000e+00,  0.00000000e+00,  0.00000000e+00,  0.00000000e+00,\n",
       "        0.00000000e+00,  0.00000000e+00,  0.00000000e+00,  0.00000000e+00,\n",
       "        0.00000000e+00,  0.00000000e+00,  0.00000000e+00,  0.00000000e+00,\n",
       "        0.00000000e+00,  0.00000000e+00,  0.00000000e+00,  0.00000000e+00,\n",
       "        0.00000000e+00,  0.00000000e+00,  0.00000000e+00,  0.00000000e+00,\n",
       "        0.00000000e+00,  0.00000000e+00,  0.00000000e+00,  0.00000000e+00,\n",
       "        0.00000000e+00,  0.00000000e+00,  0.00000000e+00,  0.00000000e+00,\n",
       "       -4.47218068e-03, -6.82200089e-03, -1.01338058e-02, -1.27886716e-02,\n",
       "       -1.41413207e-02, -1.84626087e-02, -2.31695571e-02, -2.90939343e-02,\n",
       "       -3.14128320e-02, -3.13397345e-02, -3.22310904e-02, -3.07257280e-02,\n",
       "       -3.02082116e-02, -2.63382717e-02, -2.23822544e-02, -1.79693998e-02,\n",
       "       -1.55628636e-02, -1.15933390e-02, -9.11949130e-03, -4.79881857e-03,\n",
       "        0.00000000e+00,  0.00000000e+00,  0.00000000e+00,  0.00000000e+00,\n",
       "        0.00000000e+00,  0.00000000e+00,  0.00000000e+00, -4.47218068e-03,\n",
       "       -9.33590279e-03, -1.20136111e-02, -2.07621122e-02, -2.86745167e-02,\n",
       "       -3.73805782e-02, -5.28731199e-02, -6.88911282e-02, -8.71047907e-02,\n",
       "       -1.03960488e-01, -1.18563234e-01, -1.30578495e-01, -1.39542543e-01,\n",
       "       -1.39491274e-01, -1.30808940e-01, -1.17957319e-01, -9.90037282e-02,\n",
       "       -7.67064679e-02, -5.54916616e-02, -3.84373160e-02, -2.42571490e-02,\n",
       "       -1.29874327e-02, -6.45086446e-03,  0.00000000e+00,  0.00000000e+00,\n",
       "        0.00000000e+00,  0.00000000e+00, -5.45935910e-03, -7.38425022e-03,\n",
       "       -1.28454138e-02, -2.37555256e-02, -3.80163857e-02, -5.75693741e-02,\n",
       "       -8.06421184e-02, -1.10153514e-01, -1.40363524e-01, -1.69816049e-01,\n",
       "       -1.99537594e-01, -2.27535780e-01, -2.49179150e-01, -2.61695127e-01,\n",
       "       -2.60759747e-01, -2.44536517e-01, -2.18153054e-01, -1.83601384e-01,\n",
       "       -1.45805392e-01, -1.06287180e-01, -7.55271393e-02, -4.70165127e-02,\n",
       "       -2.90400749e-02, -1.38777662e-02, -6.25663084e-03,  0.00000000e+00,\n",
       "        0.00000000e+00, -4.47218068e-03, -7.97824799e-03, -1.48687003e-02,\n",
       "       -2.37429444e-02, -4.86455882e-02, -7.92890154e-02, -1.16376882e-01,\n",
       "       -1.62008688e-01, -2.14238988e-01, -2.69071424e-01, -3.28900425e-01,\n",
       "       -3.94613463e-01, -4.56184879e-01, -5.04403869e-01, -5.26921217e-01,\n",
       "       -5.19546814e-01, -4.80790552e-01, -4.21066491e-01, -3.53177151e-01,\n",
       "       -2.81832492e-01, -2.15634335e-01, -1.58106535e-01, -1.09128143e-01,\n",
       "       -6.97069442e-02, -3.62997194e-02, -1.42549831e-02, -6.32128497e-03,\n",
       "        0.00000000e+00, -4.47218068e-03, -1.33077515e-02, -2.40202846e-02,\n",
       "       -5.45409374e-02, -9.18609614e-02, -1.42086886e-01, -1.97998889e-01,\n",
       "       -2.64769207e-01, -3.43041256e-01, -4.27781981e-01, -5.21452704e-01,\n",
       "       -6.20991756e-01, -7.21799344e-01, -7.98936776e-01, -8.38045560e-01,\n",
       "       -8.25779093e-01, -7.64241645e-01, -6.66378212e-01, -5.55368530e-01,\n",
       "       -4.45520914e-01, -3.45149681e-01, -2.58345320e-01, -1.88426456e-01,\n",
       "       -1.29322520e-01, -7.50024355e-02, -3.31866044e-02, -7.95356876e-03,\n",
       "        0.00000000e+00, -4.47218068e-03, -1.43030690e-02, -3.71396415e-02,\n",
       "       -8.05544481e-02, -1.34030658e-01, -1.99093509e-01, -2.75920176e-01,\n",
       "       -3.65267616e-01, -4.68607904e-01, -5.81724111e-01, -7.06906378e-01,\n",
       "       -8.38674887e-01, -9.66927610e-01, -8.06935688e-01,  1.45400930e-01,\n",
       "        6.76586427e-01,  1.01429286e+00,  6.70947164e-01,  9.13750849e-01,\n",
       "        3.28327769e-02, -4.49947430e-01, -3.36644958e-01, -2.45243851e-01,\n",
       "       -1.71465246e-01, -1.03038025e-01, -4.91841272e-02, -1.58869811e-02,\n",
       "       -4.47218068e-03, -1.34245983e-02, -2.64902669e-02, -6.18633869e-02,\n",
       "       -1.14918852e-01, -1.79147142e-01, -2.57747301e-01, -3.52125807e-01,\n",
       "       -4.62486281e-01, -5.89738622e-01, -7.32727504e-01, -8.84631154e-01,\n",
       "       -1.02172734e+00,  6.53042702e-01,  1.09877598e+00,  1.08056593e+00,\n",
       "        1.09912868e+00,  1.15736927e+00,  1.27421157e+00,  1.48621848e+00,\n",
       "        1.54867383e+00, -2.00327903e-01, -3.95569956e-01, -2.84494009e-01,\n",
       "       -1.94376716e-01, -1.19855380e-01, -5.76643136e-02, -1.54310824e-02,\n",
       "       -4.47218068e-03, -1.82175222e-02, -4.39210937e-02, -8.62997767e-02,\n",
       "       -1.39694832e-01, -2.10694415e-01, -2.99280398e-01, -4.08636789e-01,\n",
       "       -5.36993252e-01, -6.88408904e-01, -8.52405711e-01, -9.90095239e-01,\n",
       "        9.52643821e-01,  1.17884364e+00,  1.18470287e+00,  6.81843550e-01,\n",
       "       -3.34095811e-01, -1.10286001e+00, -2.72844747e-01,  1.13865330e+00,\n",
       "        1.70372029e+00, -2.53826881e-01, -4.20813873e-01, -2.95439525e-01,\n",
       "       -1.95797187e-01, -1.20004780e-01, -5.68192309e-02, -1.57658298e-02,\n",
       "       -5.87454850e-03, -2.20923613e-02, -5.20586230e-02, -9.33313129e-02,\n",
       "       -1.49489474e-01, -2.24578317e-01, -3.22698361e-01, -4.43249758e-01,\n",
       "       -5.88575030e-01, -7.58468721e-01, -9.11590006e-01, -2.27810522e-01,\n",
       "        1.29333522e+00,  1.36980990e+00, -6.39072697e-01, -9.13691397e-01,\n",
       "       -9.54898492e-01, -1.00624075e+00, -9.98819995e-01,  1.42051200e+00,\n",
       "        1.70569375e+00, -2.50749511e-01, -4.17261050e-01, -2.86925244e-01,\n",
       "       -1.79623946e-01, -1.04154230e-01, -4.86241823e-02, -1.52117934e-02,\n",
       "       -5.44923982e-03, -2.26059061e-02, -5.21149020e-02, -9.09283791e-02,\n",
       "       -1.45055190e-01, -2.24647452e-01, -3.31723016e-01, -4.63675778e-01,\n",
       "       -6.23803989e-01, -7.93044685e-01, -9.15796946e-01, -4.19559525e-01,\n",
       "        1.49685397e+00,  1.66307742e+00, -4.86582457e-01, -8.03515876e-01,\n",
       "       -8.74964954e-01, -4.37975771e-01,  6.81996657e-02,  1.20758241e+00,\n",
       "        1.78952896e+00,  1.03854659e+00, -3.94748830e-01, -2.68928174e-01,\n",
       "       -1.58425147e-01, -8.05805818e-02, -3.82829983e-02, -1.32262736e-02,\n",
       "       -7.03735553e-03, -1.94302802e-02, -4.62606490e-02, -7.98169631e-02,\n",
       "       -1.34453430e-01, -2.24043620e-01, -3.37399565e-01, -4.83923185e-01,\n",
       "       -6.52933372e-01, -8.17362047e-01, -9.01207184e-01, -6.04664166e-01,\n",
       "        1.67797769e+00,  1.82332923e+00,  1.74459866e+00,  1.58879529e+00,\n",
       "        6.69840401e-01,  1.33698034e+00,  1.35141486e+00,  1.53861451e+00,\n",
       "        1.34675534e+00, -1.57068564e-01, -3.69132908e-01, -2.57373074e-01,\n",
       "       -1.49121638e-01, -6.05187038e-02, -2.85898911e-02, -8.72333745e-03,\n",
       "       -4.47218068e-03, -1.69594096e-02, -3.56137837e-02, -6.66317430e-02,\n",
       "       -1.26794844e-01, -2.25530150e-01, -3.52456803e-01, -5.08920447e-01,\n",
       "       -6.83201906e-01, -8.32504270e-01, -8.89620716e-01, -8.37098555e-01,\n",
       "        6.71401831e-02,  1.15492913e+00,  1.51891026e+00,  1.37720910e+00,\n",
       "        1.28824907e+00,  1.23427814e+00,  1.32532142e+00,  8.05444879e-01,\n",
       "       -3.10512536e-01, -4.69729034e-01, -3.55377744e-01, -2.54669359e-01,\n",
       "       -1.52920755e-01, -5.43180965e-02, -2.11209946e-02, -1.02548130e-02,\n",
       "       -4.47218068e-03, -1.17593918e-02, -2.41807786e-02, -5.60132762e-02,\n",
       "       -1.24331431e-01, -2.38598355e-01, -3.74489577e-01, -5.34047343e-01,\n",
       "       -7.02217089e-01, -8.35492755e-01, -8.77486946e-01, -8.36728244e-01,\n",
       "       -8.13754058e-01, -8.92164502e-01, -9.82340938e-01, -8.55929916e-01,\n",
       "        1.13465908e+00,  1.14390436e+00,  5.48337316e-01, -7.73407200e-01,\n",
       "       -5.93474096e-01, -4.60487502e-01, -3.56631407e-01, -2.63295799e-01,\n",
       "       -1.63722326e-01, -5.91478047e-02, -2.18399381e-02, -7.65091480e-03,\n",
       "       -4.47218068e-03, -7.56916647e-03, -1.55013721e-02, -5.07357916e-02,\n",
       "       -1.28440042e-01, -2.57514419e-01, -3.95034641e-01, -5.49507945e-01,\n",
       "       -7.05874739e-01, -8.22661299e-01, -8.63221134e-01, -8.58755179e-01,\n",
       "       -9.02000555e-01, -1.03813946e+00, -8.96269752e-01,  7.84284438e-01,\n",
       "        1.06865606e+00,  8.71437313e-01, -9.61771161e-01, -7.60697075e-01,\n",
       "       -5.94272172e-01, -4.70685808e-01, -3.68539044e-01, -2.73658624e-01,\n",
       "       -1.72414337e-01, -6.80715390e-02, -2.42274990e-02, -7.65161403e-03,\n",
       "       -5.22559188e-03, -4.47218068e-03, -1.75235306e-02, -5.26097855e-02,\n",
       "       -1.39389979e-01, -2.76136882e-01, -4.10226334e-01, -5.51381352e-01,\n",
       "       -6.88694777e-01, -7.88082470e-01, -8.39323681e-01, -8.67276812e-01,\n",
       "       -9.57401646e-01, -1.09790384e+00,  7.96895675e-01,  1.05385457e+00,\n",
       "        8.42345367e-01, -8.21407125e-01, -9.23747939e-01, -7.52263299e-01,\n",
       "       -6.08102941e-01, -4.85517956e-01, -3.79708049e-01, -2.78411431e-01,\n",
       "       -1.74107977e-01, -7.63002150e-02, -2.97749251e-02, -9.82014616e-03,\n",
       "       -4.47218068e-03, -6.71357659e-03, -2.18180413e-02, -5.95620217e-02,\n",
       "       -1.55439942e-01, -2.95259227e-01, -4.19524112e-01, -5.42121157e-01,\n",
       "       -6.55531506e-01, -7.40275321e-01, -7.87680136e-01, -8.32100277e-01,\n",
       "       -9.19388393e-01, -1.96324612e-02,  1.13420704e+00,  1.13866528e+00,\n",
       "       -3.18529136e-01, -1.00253989e+00, -8.81713456e-01, -7.44757370e-01,\n",
       "       -6.16955763e-01, -4.92644747e-01, -3.79442324e-01, -2.73202974e-01,\n",
       "       -1.72663002e-01, -8.32305874e-02, -3.24287664e-02, -1.01522463e-02,\n",
       "        0.00000000e+00, -7.98056092e-03, -2.44925977e-02, -7.27444745e-02,\n",
       "       -1.76343610e-01, -3.12881792e-01, -4.27427462e-01, -5.32297250e-01,\n",
       "       -6.20113055e-01, -6.84801879e-01, -7.24888779e-01, -7.65585235e-01,\n",
       "       -3.41055291e-02,  1.11210258e+00,  1.26466636e+00,  4.81337503e-01,\n",
       "       -1.01488764e+00, -9.56673444e-01, -8.60060163e-01, -7.44799913e-01,\n",
       "       -6.16576133e-01, -4.85528545e-01, -3.67522273e-01, -2.60324246e-01,\n",
       "       -1.66780872e-01, -8.73277613e-02, -3.34918630e-02, -1.17523114e-02,\n",
       "       -6.46968503e-03, -7.14312908e-03, -3.32890297e-02, -9.03380078e-02,\n",
       "       -1.97244137e-01, -3.26884291e-01, -4.37993025e-01, -5.33177878e-01,\n",
       "       -6.06616369e-01, -6.62196414e-01, -7.00385658e-01, -4.55753322e-01,\n",
       "        1.60858013e+00,  1.45626894e+00,  3.03665665e-01, -1.01598496e+00,\n",
       "       -1.01469955e+00, -9.60425873e-01, -8.65089027e-01, -7.39697219e-01,\n",
       "       -5.99265218e-01, -4.64617529e-01, -3.47946206e-01, -2.44431344e-01,\n",
       "       -1.56575937e-01, -8.44625159e-02, -2.88044273e-02, -8.02309871e-03,\n",
       "       -4.47218068e-03, -1.14105851e-02, -3.78165708e-02, -1.03905462e-01,\n",
       "       -2.09077545e-01, -3.36013133e-01, -4.49356925e-01, -5.50228248e-01,\n",
       "       -6.32108580e-01, -6.94953115e-01, -4.66102080e-01,  1.33193773e+00,\n",
       "        1.51459644e+00,  8.69900526e-01, -7.55369310e-01, -1.06584311e+00,\n",
       "       -1.05509418e+00, -9.75369914e-01, -8.55814509e-01, -7.07196036e-01,\n",
       "       -5.58823210e-01, -4.27917583e-01, -3.15930166e-01, -2.18670624e-01,\n",
       "       -1.39969844e-01, -7.64136202e-02, -2.61015714e-02, -6.75837245e-03,\n",
       "        0.00000000e+00, -1.15641023e-02, -4.12009169e-02, -1.08797998e-01,\n",
       "       -2.05957544e-01, -3.27609193e-01, -4.51287170e-01, -5.66018111e-01,\n",
       "       -6.70321081e-01, -7.60782248e-01,  1.23801705e+00,  1.42033573e+00,\n",
       "        8.15983504e-01, -7.94678168e-01, -1.12548908e+00, -1.13478253e+00,\n",
       "       -1.07006195e+00, -9.46691703e-01, -7.93650613e-01, -6.31811587e-01,\n",
       "       -4.89726744e-01, -3.69106833e-01, -2.68645652e-01, -1.86344827e-01,\n",
       "       -1.21024840e-01, -6.46956746e-02, -2.42852578e-02, -6.32437182e-03,\n",
       "       -4.47218068e-03, -1.03325785e-02, -3.82669604e-02, -9.91996844e-02,\n",
       "       -1.85862497e-01, -2.97158298e-01, -4.23590239e-01, -5.51924506e-01,\n",
       "       -6.77928591e-01,  7.61683016e-01,  1.38387622e+00,  1.27473668e+00,\n",
       "       -8.46344379e-01, -1.18696889e+00, -1.20272461e+00, -1.13494193e+00,\n",
       "       -1.00256287e+00, -8.39212833e-01, -6.70870162e-01, -5.23734385e-01,\n",
       "       -3.99222562e-01, -2.96330483e-01, -2.12097691e-01, -1.47823859e-01,\n",
       "       -9.62360677e-02, -4.86105520e-02, -1.83757100e-02, -4.47218068e-03,\n",
       "       -4.47218068e-03, -6.57806838e-03, -3.25045712e-02, -7.75658718e-02,\n",
       "       -1.46756631e-01, -2.41125725e-01, -3.56375673e-01, -4.83259001e-01,\n",
       "       -3.56186097e-02,  1.35843522e+00,  1.39902092e+00,  5.05420699e-03,\n",
       "       -1.09332502e+00, -1.12404207e+00, -1.08384171e+00, -9.69249142e-01,\n",
       "       -8.24025777e-01, -6.67727760e-01, -5.25812107e-01, -4.02382038e-01,\n",
       "       -3.02999401e-01, -2.20849401e-01, -1.58483317e-01, -1.08790174e-01,\n",
       "       -6.92109219e-02, -3.62956347e-02, -1.15233081e-02, -4.47218068e-03,\n",
       "        0.00000000e+00, -4.47218068e-03, -2.23009371e-02, -5.03009403e-02,\n",
       "       -9.99305190e-02, -1.68454361e-01, -2.57326781e-01,  1.40562284e+00,\n",
       "        2.63202244e+00,  2.05922095e+00,  1.42729111e+00, -8.43851908e-01,\n",
       "       -9.05010922e-01, -9.06116001e-01, -8.46932905e-01, -7.41680198e-01,\n",
       "       -6.17130177e-01, -4.94605562e-01, -3.81649366e-01, -2.88067444e-01,\n",
       "       -2.11898045e-01, -1.51077448e-01, -1.08696895e-01, -7.27200376e-02,\n",
       "       -4.18252166e-02, -1.97145881e-02, -8.28304631e-03,  0.00000000e+00,\n",
       "        0.00000000e+00,  0.00000000e+00, -8.44293095e-03, -2.82927674e-02,\n",
       "       -5.70180684e-02, -9.44832853e-02,  9.22610606e-01,  5.32684471e+00,\n",
       "        4.32401044e+00,  2.47998755e+00, -1.07458649e-01, -5.31431522e-01,\n",
       "       -5.66399906e-01, -5.64691123e-01, -5.29024422e-01, -4.71625926e-01,\n",
       "       -4.00500674e-01, -3.25594132e-01, -2.55232855e-01, -1.93410728e-01,\n",
       "       -1.42987411e-01, -9.89184370e-02, -6.92250117e-02, -4.57681093e-02,\n",
       "       -2.37365259e-02, -9.66598392e-03, -5.20652537e-03,  0.00000000e+00,\n",
       "        0.00000000e+00,  0.00000000e+00, -4.47218068e-03, -1.04293458e-02,\n",
       "       -2.71231993e-02, -5.11525702e-02,  7.13752294e+00,  1.04062472e+01,\n",
       "        5.54762552e+00,  4.39671095e-01, -2.65955646e-01, -2.95432498e-01,\n",
       "       -3.08817063e-01, -3.06914632e-01, -2.92056523e-01, -2.66849905e-01,\n",
       "       -2.34326265e-01, -2.00457886e-01, -1.61662781e-01, -1.25084400e-01,\n",
       "       -9.13155224e-02, -6.27776748e-02, -4.47693134e-02, -2.85316596e-02,\n",
       "       -1.45259523e-02, -7.49401127e-03, -4.47218068e-03,  0.00000000e+00,\n",
       "        0.00000000e+00,  0.00000000e+00,  0.00000000e+00, -4.47218068e-03,\n",
       "       -1.38930756e-02, -3.06632635e-02, -5.23878431e-02, -7.70484660e-02,\n",
       "       -1.05299525e-01, -1.32322155e-01, -1.55107210e-01, -1.74109749e-01,\n",
       "       -1.82471789e-01, -1.80153103e-01, -1.70353105e-01, -1.53629516e-01,\n",
       "       -1.35052355e-01, -1.15785203e-01, -9.17986343e-02, -7.15194592e-02,\n",
       "       -5.15072153e-02, -3.45846968e-02, -2.18745015e-02, -1.23846227e-02,\n",
       "       -5.62921359e-03, -4.47218068e-03,  0.00000000e+00,  0.00000000e+00,\n",
       "        0.00000000e+00,  0.00000000e+00,  0.00000000e+00,  0.00000000e+00,\n",
       "       -6.06366114e-03, -7.79454620e-03, -1.38528385e-02, -1.90092811e-02,\n",
       "       -2.44423967e-02, -3.10831792e-02, -4.28789507e-02, -4.69338444e-02,\n",
       "       -5.17734548e-02, -5.49828682e-02, -5.80402191e-02, -5.51623766e-02,\n",
       "       -4.92836321e-02, -4.04846117e-02, -3.26098772e-02, -2.39012489e-02,\n",
       "       -1.62431697e-02, -9.48056324e-03, -9.03446216e-03, -4.47218068e-03,\n",
       "        0.00000000e+00,  0.00000000e+00,  0.00000000e+00,  0.00000000e+00])"
      ]
     },
     "execution_count": 46,
     "metadata": {},
     "output_type": "execute_result"
    }
   ],
   "source": [
    "X_train[1]"
   ]
  },
  {
   "cell_type": "markdown",
   "id": "c9714ed8",
   "metadata": {},
   "source": [
    "# Logistic Regression Model Fitting"
   ]
  },
  {
   "cell_type": "code",
   "execution_count": 14,
   "id": "41ba826e",
   "metadata": {},
   "outputs": [],
   "source": [
    "import warnings\n",
    "warnings.filterwarnings(\"ignore\")"
   ]
  },
  {
   "cell_type": "markdown",
   "id": "67bace92",
   "metadata": {},
   "source": [
    "#### No Regularization"
   ]
  },
  {
   "cell_type": "code",
   "execution_count": 15,
   "id": "6b42d7f3",
   "metadata": {},
   "outputs": [
    {
     "name": "stdout",
     "output_type": "stream",
     "text": [
      "Sparsity with no penalty: 8.93%\n",
      "Test score with no penalty: 0.9131\n"
     ]
    }
   ],
   "source": [
    "clf = LogisticRegression(penalty='none', tol=0.1, multi_class='ovr')\n",
    "clf.fit(X_train, y_train)\n",
    "sparsity = np.mean(clf.coef_ == 0) * 100\n",
    "\n",
    "#y_hat_test = clf.predict(X_test)\n",
    "score = clf.score(X_test, y_test)\n",
    "\n",
    "print(\"Sparsity with no penalty: %.2f%%\" % sparsity)\n",
    "print(\"Test score with no penalty: %.4f\" % score)"
   ]
  },
  {
   "cell_type": "code",
   "execution_count": 50,
   "id": "6a02f769",
   "metadata": {},
   "outputs": [
    {
     "data": {
      "text/plain": [
       "(10, 784)"
      ]
     },
     "execution_count": 50,
     "metadata": {},
     "output_type": "execute_result"
    }
   ],
   "source": [
    "clf.coef_.shape"
   ]
  },
  {
   "cell_type": "markdown",
   "id": "c82eac3a",
   "metadata": {},
   "source": [
    "### Regularization"
   ]
  },
  {
   "cell_type": "markdown",
   "id": "ffb41a6a",
   "metadata": {},
   "source": [
    "### $L_1$"
   ]
  },
  {
   "cell_type": "code",
   "execution_count": 54,
   "id": "2ed1d0bf",
   "metadata": {},
   "outputs": [
    {
     "name": "stdout",
     "output_type": "stream",
     "text": [
      "Sparsity with L1 penalty: 12.63%\n",
      "Test score with L1 penalty: 0.8885\n"
     ]
    }
   ],
   "source": [
    "clf = LogisticRegression(C=0.1, penalty=\"l1\", tol=0.1, solver='saga', multi_class='multinomial')\n",
    "clf.fit(X_train, y_train)\n",
    "sparsity = np.mean(clf.coef_ == 0) * 100\n",
    "score = clf.score(X_test, y_test)\n",
    "\n",
    "print(\"Sparsity with L1 penalty: %.2f%%\" % sparsity)\n",
    "print(\"Test score with L1 penalty: %.4f\" % score)"
   ]
  },
  {
   "cell_type": "markdown",
   "id": "5ff03c4d",
   "metadata": {},
   "source": [
    "### $L_2$ "
   ]
  },
  {
   "cell_type": "code",
   "execution_count": 18,
   "id": "add7f7b4",
   "metadata": {},
   "outputs": [
    {
     "name": "stdout",
     "output_type": "stream",
     "text": [
      "Sparsity with L1 penalty: 8.93%\n",
      "Test score with L1 penalty: 0.9162\n"
     ]
    }
   ],
   "source": [
    "clf = LogisticRegression(C=0.1, penalty=\"l2\", tol=0.1, multi_class='ovr')\n",
    "clf.fit(X_train, y_train)\n",
    "sparsity = np.mean(clf.coef_ == 0) * 100\n",
    "score = clf.score(X_test, y_test)\n",
    "\n",
    "print(\"Sparsity with L1 penalty: %.2f%%\" % sparsity)\n",
    "print(\"Test score with L1 penalty: %.4f\" % score)"
   ]
  },
  {
   "cell_type": "code",
   "execution_count": 19,
   "id": "3c4dcc21",
   "metadata": {},
   "outputs": [
    {
     "data": {
      "text/html": [
       "<div>\n",
       "<style scoped>\n",
       "    .dataframe tbody tr th:only-of-type {\n",
       "        vertical-align: middle;\n",
       "    }\n",
       "\n",
       "    .dataframe tbody tr th {\n",
       "        vertical-align: top;\n",
       "    }\n",
       "\n",
       "    .dataframe thead th {\n",
       "        text-align: right;\n",
       "    }\n",
       "</style>\n",
       "<table border=\"1\" class=\"dataframe\">\n",
       "  <thead>\n",
       "    <tr style=\"text-align: right;\">\n",
       "      <th></th>\n",
       "      <th>0</th>\n",
       "      <th>1</th>\n",
       "      <th>2</th>\n",
       "      <th>3</th>\n",
       "      <th>4</th>\n",
       "      <th>5</th>\n",
       "      <th>6</th>\n",
       "      <th>7</th>\n",
       "      <th>8</th>\n",
       "      <th>9</th>\n",
       "    </tr>\n",
       "  </thead>\n",
       "  <tbody>\n",
       "    <tr>\n",
       "      <th>0</th>\n",
       "      <td>1962</td>\n",
       "      <td>1</td>\n",
       "      <td>4</td>\n",
       "      <td>4</td>\n",
       "      <td>4</td>\n",
       "      <td>5</td>\n",
       "      <td>9</td>\n",
       "      <td>4</td>\n",
       "      <td>16</td>\n",
       "      <td>3</td>\n",
       "    </tr>\n",
       "    <tr>\n",
       "      <th>1</th>\n",
       "      <td>0</td>\n",
       "      <td>2155</td>\n",
       "      <td>14</td>\n",
       "      <td>3</td>\n",
       "      <td>2</td>\n",
       "      <td>7</td>\n",
       "      <td>3</td>\n",
       "      <td>5</td>\n",
       "      <td>20</td>\n",
       "      <td>2</td>\n",
       "    </tr>\n",
       "    <tr>\n",
       "      <th>2</th>\n",
       "      <td>13</td>\n",
       "      <td>12</td>\n",
       "      <td>1744</td>\n",
       "      <td>25</td>\n",
       "      <td>31</td>\n",
       "      <td>10</td>\n",
       "      <td>19</td>\n",
       "      <td>27</td>\n",
       "      <td>42</td>\n",
       "      <td>6</td>\n",
       "    </tr>\n",
       "    <tr>\n",
       "      <th>3</th>\n",
       "      <td>9</td>\n",
       "      <td>8</td>\n",
       "      <td>57</td>\n",
       "      <td>1832</td>\n",
       "      <td>6</td>\n",
       "      <td>65</td>\n",
       "      <td>10</td>\n",
       "      <td>21</td>\n",
       "      <td>35</td>\n",
       "      <td>26</td>\n",
       "    </tr>\n",
       "    <tr>\n",
       "      <th>4</th>\n",
       "      <td>8</td>\n",
       "      <td>5</td>\n",
       "      <td>12</td>\n",
       "      <td>3</td>\n",
       "      <td>1819</td>\n",
       "      <td>7</td>\n",
       "      <td>16</td>\n",
       "      <td>9</td>\n",
       "      <td>17</td>\n",
       "      <td>71</td>\n",
       "    </tr>\n",
       "    <tr>\n",
       "      <th>5</th>\n",
       "      <td>16</td>\n",
       "      <td>15</td>\n",
       "      <td>14</td>\n",
       "      <td>66</td>\n",
       "      <td>17</td>\n",
       "      <td>1552</td>\n",
       "      <td>34</td>\n",
       "      <td>9</td>\n",
       "      <td>47</td>\n",
       "      <td>17</td>\n",
       "    </tr>\n",
       "    <tr>\n",
       "      <th>6</th>\n",
       "      <td>15</td>\n",
       "      <td>9</td>\n",
       "      <td>16</td>\n",
       "      <td>2</td>\n",
       "      <td>12</td>\n",
       "      <td>40</td>\n",
       "      <td>1886</td>\n",
       "      <td>2</td>\n",
       "      <td>13</td>\n",
       "      <td>1</td>\n",
       "    </tr>\n",
       "    <tr>\n",
       "      <th>7</th>\n",
       "      <td>6</td>\n",
       "      <td>8</td>\n",
       "      <td>30</td>\n",
       "      <td>9</td>\n",
       "      <td>21</td>\n",
       "      <td>4</td>\n",
       "      <td>1</td>\n",
       "      <td>1967</td>\n",
       "      <td>6</td>\n",
       "      <td>59</td>\n",
       "    </tr>\n",
       "    <tr>\n",
       "      <th>8</th>\n",
       "      <td>19</td>\n",
       "      <td>50</td>\n",
       "      <td>28</td>\n",
       "      <td>46</td>\n",
       "      <td>13</td>\n",
       "      <td>64</td>\n",
       "      <td>18</td>\n",
       "      <td>13</td>\n",
       "      <td>1674</td>\n",
       "      <td>36</td>\n",
       "    </tr>\n",
       "    <tr>\n",
       "      <th>9</th>\n",
       "      <td>7</td>\n",
       "      <td>9</td>\n",
       "      <td>4</td>\n",
       "      <td>29</td>\n",
       "      <td>68</td>\n",
       "      <td>22</td>\n",
       "      <td>0</td>\n",
       "      <td>70</td>\n",
       "      <td>16</td>\n",
       "      <td>1732</td>\n",
       "    </tr>\n",
       "  </tbody>\n",
       "</table>\n",
       "</div>"
      ],
      "text/plain": [
       "      0     1     2     3     4     5     6     7     8     9\n",
       "0  1962     1     4     4     4     5     9     4    16     3\n",
       "1     0  2155    14     3     2     7     3     5    20     2\n",
       "2    13    12  1744    25    31    10    19    27    42     6\n",
       "3     9     8    57  1832     6    65    10    21    35    26\n",
       "4     8     5    12     3  1819     7    16     9    17    71\n",
       "5    16    15    14    66    17  1552    34     9    47    17\n",
       "6    15     9    16     2    12    40  1886     2    13     1\n",
       "7     6     8    30     9    21     4     1  1967     6    59\n",
       "8    19    50    28    46    13    64    18    13  1674    36\n",
       "9     7     9     4    29    68    22     0    70    16  1732"
      ]
     },
     "execution_count": 19,
     "metadata": {},
     "output_type": "execute_result"
    }
   ],
   "source": [
    "from sklearn.metrics import confusion_matrix\n",
    "\n",
    "y_hat_test = clf.predict(X_test)\n",
    "cm = confusion_matrix(y_test, y_hat_test)\n",
    "df = pd.DataFrame(cm)\n",
    "df"
   ]
  },
  {
   "cell_type": "code",
   "execution_count": 20,
   "id": "ad8ddb38",
   "metadata": {},
   "outputs": [
    {
     "data": {
      "image/png": "[encoded data removed]",
      "text/plain": [
       "<Figure size 720x432 with 2 Axes>"
      ]
     },
     "metadata": {
      "needs_background": "light"
     },
     "output_type": "display_data"
    }
   ],
   "source": [
    "import seaborn as sb\n",
    "\n",
    "plt.subplots(figsize=(10, 6))\n",
    "sb.heatmap(confusion_matrix(y_test, y_hat_test), annot = True, fmt = 'g')\n",
    "plt.xlabel(\"Predicted\")\n",
    "plt.ylabel(\"Actual\")\n",
    "plt.title(\"Confusion Matrix\")\n",
    "plt.show()"
   ]
  }
 ],
 "metadata": {
  "kernelspec": {
   "display_name": "Python 3",
   "language": "python",
   "name": "python3"
  },
  "language_info": {
   "codemirror_mode": {
    "name": "ipython",
    "version": 3
   },
   "file_extension": ".py",
   "mimetype": "text/x-python",
   "name": "python",
   "nbconvert_exporter": "python",
   "pygments_lexer": "ipython3",
   "version": "3.8.8"
  }
 },
 "nbformat": 4,
 "nbformat_minor": 5
}
